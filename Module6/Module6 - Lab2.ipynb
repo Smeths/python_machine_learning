{
 "cells": [
  {
   "cell_type": "markdown",
   "metadata": {},
   "source": [
    "# DAT210x - Programming with Python for DS"
   ]
  },
  {
   "cell_type": "markdown",
   "metadata": {},
   "source": [
    "## Module6- Lab2"
   ]
  },
  {
   "cell_type": "code",
   "execution_count": 1,
   "metadata": {
    "collapsed": true
   },
   "outputs": [],
   "source": [
    "import pandas as pd\n",
    "\n",
    "import matplotlib.pyplot as plt\n",
    "from sklearn import svm"
   ]
  },
  {
   "cell_type": "markdown",
   "metadata": {
    "collapsed": true
   },
   "source": [
    "The dataset used in this lab comes from https://archive.ics.uci.edu/ml/datasets/Optical+Recognition+of+Handwritten+Digits\n",
    "\n",
    "At face value, this looks like an easy lab, but it has many parts to it, so prepare yourself by rading through it fully before starting."
   ]
  },
  {
   "cell_type": "markdown",
   "metadata": {},
   "source": [
    "### Convenience Functions"
   ]
  },
  {
   "cell_type": "code",
   "execution_count": 2,
   "metadata": {
    "collapsed": true
   },
   "outputs": [],
   "source": [
    "def load(path_train, path_test):\n",
    "    # Load up the data.\n",
    "    \n",
    "    # You probably could have written this easily:\n",
    "    with open(path_test, 'r')  as f: testing  = pd.read_csv(f)\n",
    "    with open(path_train, 'r') as f: training = pd.read_csv(f)\n",
    "\n",
    "    # The number of samples between training and testing can vary\n",
    "    # But the number of features better remain the same!\n",
    "    n_features = testing.shape[1]\n",
    "\n",
    "    X_test  = testing.ix[:,:n_features-1]\n",
    "    X_train = training.ix[:,:n_features-1]\n",
    "    y_test  = testing.ix[:,n_features-1:].values.ravel()\n",
    "    y_train = training.ix[:,n_features-1:].values.ravel()\n",
    "\n",
    "    # Special:\n",
    "    # ...\n",
    "    \n",
    "    return X_train, X_test, y_train, y_test"
   ]
  },
  {
   "cell_type": "code",
   "execution_count": 3,
   "metadata": {
    "collapsed": true
   },
   "outputs": [],
   "source": [
    "def peekData(X_train):\n",
    "    # The 'targets' or labels are stored in y. The 'samples' or data is stored in X\n",
    "    print(\"Peeking your data...\")\n",
    "    fig = plt.figure()\n",
    "    fig.set_tight_layout(True)\n",
    "\n",
    "    cnt = 0\n",
    "    for col in range(5):\n",
    "        for row in range(10):\n",
    "            plt.subplot(5, 10, cnt + 1)\n",
    "            plt.imshow(X_train.ix[cnt,:].reshape(8,8), cmap=plt.cm.gray_r, interpolation='nearest')\n",
    "            plt.axis('off')\n",
    "            cnt += 1\n",
    "            \n",
    "    plt.show()"
   ]
  },
  {
   "cell_type": "code",
   "execution_count": 4,
   "metadata": {
    "collapsed": true
   },
   "outputs": [],
   "source": [
    "def drawPredictions(X_train, X_test, y_train, y_test):\n",
    "    fig = plt.figure()\n",
    "    fig.set_tight_layout(True)\n",
    "    \n",
    "    # Make some guesses\n",
    "    y_guess = model.predict(X_test)\n",
    "\n",
    "    # INFO: This is the second lab we're demonstrating how to\n",
    "    # do multi-plots using matplot lab. In the next assignment(s),\n",
    "    # it'll be your responsibility to use this and assignment #1\n",
    "    # as tutorials to add in the plotting code yourself!\n",
    "    num_rows = 10\n",
    "    num_cols = 5\n",
    "\n",
    "    index = 0\n",
    "    for col in range(num_cols):\n",
    "        for row in range(num_rows):\n",
    "            plt.subplot(num_cols, num_rows, index + 1)\n",
    "\n",
    "            # 8x8 is the size of the image, 64 pixels\n",
    "            plt.imshow(X_test.ix[index,:].reshape(8,8), cmap=plt.cm.gray_r, interpolation='nearest')\n",
    "\n",
    "            # Green = Guessed right\n",
    "            # Red = Fail!\n",
    "            fontcolor = 'g' if y_test[index] == y_guess[index] else 'r'\n",
    "            plt.title('Label: %i' % y_guess[index], fontsize=6, color=fontcolor)\n",
    "            plt.axis('off')\n",
    "            index += 1\n",
    "    plt.show()"
   ]
  },
  {
   "cell_type": "markdown",
   "metadata": {},
   "source": [
    "### The Assignment"
   ]
  },
  {
   "cell_type": "code",
   "execution_count": 5,
   "metadata": {},
   "outputs": [
    {
     "name": "stderr",
     "output_type": "stream",
     "text": [
      "/home/smeths/anaconda3/lib/python3.6/site-packages/ipykernel_launcher.py:12: DeprecationWarning: \n",
      ".ix is deprecated. Please use\n",
      ".loc for label based indexing or\n",
      ".iloc for positional indexing\n",
      "\n",
      "See the documentation here:\n",
      "http://pandas.pydata.org/pandas-docs/stable/indexing.html#ix-indexer-is-deprecated\n",
      "  if sys.path[0] == '':\n",
      "/home/smeths/anaconda3/lib/python3.6/site-packages/ipykernel_launcher.py:13: DeprecationWarning: \n",
      ".ix is deprecated. Please use\n",
      ".loc for label based indexing or\n",
      ".iloc for positional indexing\n",
      "\n",
      "See the documentation here:\n",
      "http://pandas.pydata.org/pandas-docs/stable/indexing.html#ix-indexer-is-deprecated\n",
      "  del sys.path[0]\n"
     ]
    }
   ],
   "source": [
    "# TODO: Pass in the file paths to the .tra and the .tes files:\n",
    "X_train, X_test, y_train, y_test = load('Datasets/optdigits.tes', 'Datasets/optdigits.tra')"
   ]
  },
  {
   "cell_type": "markdown",
   "metadata": {},
   "source": [
    "Get to know your data. It seems its already well organized in `[n_samples, n_features]` form. Your dataset looks like (4389, 784). Also your labels are already shaped as `[n_samples]`."
   ]
  },
  {
   "cell_type": "code",
   "execution_count": 6,
   "metadata": {},
   "outputs": [
    {
     "name": "stdout",
     "output_type": "stream",
     "text": [
      "Peeking your data...\n"
     ]
    },
    {
     "name": "stderr",
     "output_type": "stream",
     "text": [
      "/home/smeths/anaconda3/lib/python3.6/site-packages/ipykernel_launcher.py:11: DeprecationWarning: \n",
      ".ix is deprecated. Please use\n",
      ".loc for label based indexing or\n",
      ".iloc for positional indexing\n",
      "\n",
      "See the documentation here:\n",
      "http://pandas.pydata.org/pandas-docs/stable/indexing.html#ix-indexer-is-deprecated\n",
      "  # This is added back by InteractiveShellApp.init_path()\n",
      "/home/smeths/anaconda3/lib/python3.6/site-packages/ipykernel_launcher.py:11: FutureWarning: reshape is deprecated and will raise in a subsequent release. Please use .values.reshape(...) instead\n",
      "  # This is added back by InteractiveShellApp.init_path()\n",
      "/home/smeths/anaconda3/lib/python3.6/site-packages/matplotlib/figure.py:1999: UserWarning: This figure includes Axes that are not compatible with tight_layout, so results might be incorrect.\n",
      "  warnings.warn(\"This figure includes Axes that are not compatible \"\n"
     ]
    },
    {
     "data": {
      "image/png": "[encoded data removed]",
      "text/plain": [
       "<matplotlib.figure.Figure at 0x7f885b090240>"
      ]
     },
     "metadata": {},
     "output_type": "display_data"
    }
   ],
   "source": [
    "peekData(X_train)"
   ]
  },
  {
   "cell_type": "markdown",
   "metadata": {},
   "source": [
    "Create an SVC classifier. Leave `C=1`, but set `gamma` to `0.001` and set the `kernel` to `linear`. Then train the model on the training data and labels:"
   ]
  },
  {
   "cell_type": "code",
   "execution_count": 69,
   "metadata": {},
   "outputs": [
    {
     "name": "stdout",
     "output_type": "stream",
     "text": [
      "Training SVC Classifier...\n",
      "C =  0.1\n",
      "gamma =  0.1\n",
      "Scoring SVC Classifier...\n",
      "0.101779173208\n",
      "C =  0.1\n",
      "gamma =  0.01\n",
      "Scoring SVC Classifier...\n",
      "0.101779173208\n",
      "C =  0.1\n",
      "gamma =  0.001\n",
      "Scoring SVC Classifier...\n",
      "0.958137100994\n",
      "C =  0.1\n",
      "gamma =  0.0001\n",
      "Scoring SVC Classifier...\n",
      "0.922553636839\n",
      "C =  0.1\n",
      "gamma =  0.002\n",
      "Scoring SVC Classifier...\n",
      "0.953427524856\n",
      "C =  0.1\n",
      "gamma =  0.003\n",
      "Scoring SVC Classifier...\n",
      "0.906331763475\n",
      "C =  0.1\n",
      "gamma =  0.004\n",
      "Scoring SVC Classifier...\n",
      "0.681318681319\n",
      "C =  0.1\n",
      "gamma =  0.005\n",
      "Scoring SVC Classifier...\n",
      "0.350601779173\n",
      "C =  0.1\n",
      "gamma =  0.006\n",
      "Scoring SVC Classifier...\n",
      "0.171114599686\n",
      "C =  0.1\n",
      "gamma =  0.007\n",
      "Scoring SVC Classifier...\n",
      "0.126896912611\n",
      "C =  0.1\n",
      "gamma =  0.008\n",
      "Scoring SVC Classifier...\n",
      "0.105965463108\n",
      "C =  0.1\n",
      "gamma =  0.009\n",
      "Scoring SVC Classifier...\n",
      "0.101779173208\n",
      "C =  0.5\n",
      "gamma =  0.1\n",
      "Scoring SVC Classifier...\n",
      "0.101779173208\n",
      "C =  0.5\n",
      "gamma =  0.01\n",
      "Scoring SVC Classifier...\n",
      "0.304814233386\n",
      "C =  0.5\n",
      "gamma =  0.001\n",
      "Scoring SVC Classifier...\n",
      "0.974882260597\n",
      "C =  0.5\n",
      "gamma =  0.0001\n",
      "Scoring SVC Classifier...\n",
      "0.957352171638\n",
      "C =  0.5\n",
      "gamma =  0.002\n",
      "Scoring SVC Classifier...\n",
      "0.972265829409\n",
      "C =  0.5\n",
      "gamma =  0.003\n",
      "Scoring SVC Classifier...\n",
      "0.964939822083\n",
      "C =  0.5\n",
      "gamma =  0.004\n",
      "Scoring SVC Classifier...\n",
      "0.934850863422\n",
      "C =  0.5\n",
      "gamma =  0.005\n",
      "Scoring SVC Classifier...\n",
      "0.870486656201\n",
      "C =  0.5\n",
      "gamma =  0.006\n",
      "Scoring SVC Classifier...\n",
      "0.784667713239\n",
      "C =  0.5\n",
      "gamma =  0.007\n",
      "Scoring SVC Classifier...\n",
      "0.709837781266\n",
      "C =  0.5\n",
      "gamma =  0.008\n",
      "Scoring SVC Classifier...\n",
      "0.572998430141\n",
      "C =  0.5\n",
      "gamma =  0.009\n",
      "Scoring SVC Classifier...\n",
      "0.428571428571\n",
      "C =  1\n",
      "gamma =  0.1\n",
      "Scoring SVC Classifier...\n",
      "0.101779173208\n",
      "C =  1\n",
      "gamma =  0.01\n",
      "Scoring SVC Classifier...\n",
      "0.716902145474\n",
      "C =  1\n",
      "gamma =  0.001\n",
      "Scoring SVC Classifier...\n",
      "0.976713762428\n",
      "C =  1\n",
      "gamma =  0.0001\n",
      "Scoring SVC Classifier...\n",
      "0.964678178964\n",
      "C =  1\n",
      "gamma =  0.002\n",
      "Scoring SVC Classifier...\n",
      "0.97409733124\n",
      "C =  1\n",
      "gamma =  0.003\n",
      "Scoring SVC Classifier...\n",
      "0.969649398221\n",
      "C =  1\n",
      "gamma =  0.004\n",
      "Scoring SVC Classifier...\n",
      "0.953427524856\n",
      "C =  1\n",
      "gamma =  0.005\n",
      "Scoring SVC Classifier...\n",
      "0.921507064364\n",
      "C =  1\n",
      "gamma =  0.006\n",
      "Scoring SVC Classifier...\n",
      "0.879905808477\n",
      "C =  1\n",
      "gamma =  0.007\n",
      "Scoring SVC Classifier...\n",
      "0.834903192046\n",
      "C =  1\n",
      "gamma =  0.008\n",
      "Scoring SVC Classifier...\n",
      "0.786499215071\n",
      "C =  1\n",
      "gamma =  0.009\n",
      "Scoring SVC Classifier...\n",
      "0.746729461015\n",
      "C =  2\n",
      "gamma =  0.1\n",
      "Scoring SVC Classifier...\n",
      "0.101779173208\n",
      "C =  2\n",
      "gamma =  0.01\n",
      "Scoring SVC Classifier...\n",
      "0.7284144427\n",
      "C =  2\n",
      "gamma =  0.001\n",
      "Scoring SVC Classifier...\n",
      "0.976713762428\n",
      "C =  2\n",
      "gamma =  0.0001\n",
      "Scoring SVC Classifier...\n",
      "0.966248037677\n",
      "C =  2\n",
      "gamma =  0.002\n",
      "Scoring SVC Classifier...\n",
      "0.972789115646\n",
      "C =  2\n",
      "gamma =  0.003\n",
      "Scoring SVC Classifier...\n",
      "0.969649398221\n",
      "C =  2\n",
      "gamma =  0.004\n",
      "Scoring SVC Classifier...\n",
      "0.953950811094\n",
      "C =  2\n",
      "gamma =  0.005\n",
      "Scoring SVC Classifier...\n",
      "0.923600209314\n",
      "C =  2\n",
      "gamma =  0.006\n",
      "Scoring SVC Classifier...\n",
      "0.881998953428\n",
      "C =  2\n",
      "gamma =  0.007\n",
      "Scoring SVC Classifier...\n",
      "0.839351125065\n",
      "C =  2\n",
      "gamma =  0.008\n",
      "Scoring SVC Classifier...\n",
      "0.792517006803\n",
      "C =  2\n",
      "gamma =  0.009\n",
      "Scoring SVC Classifier...\n",
      "0.757195185767\n",
      "C =  3\n",
      "gamma =  0.1\n",
      "Scoring SVC Classifier...\n",
      "0.101779173208\n",
      "C =  3\n",
      "gamma =  0.01\n",
      "Scoring SVC Classifier...\n",
      "0.7284144427\n",
      "C =  3\n",
      "gamma =  0.001\n",
      "Scoring SVC Classifier...\n",
      "0.976713762428\n",
      "C =  3\n",
      "gamma =  0.0001\n",
      "Scoring SVC Classifier...\n",
      "0.968602825746\n",
      "C =  3\n",
      "gamma =  0.002\n",
      "Scoring SVC Classifier...\n",
      "0.972789115646\n",
      "C =  3\n",
      "gamma =  0.003\n",
      "Scoring SVC Classifier...\n",
      "0.969649398221\n",
      "C =  3\n",
      "gamma =  0.004\n",
      "Scoring SVC Classifier...\n",
      "0.953950811094\n",
      "C =  3\n",
      "gamma =  0.005\n",
      "Scoring SVC Classifier...\n",
      "0.923600209314\n",
      "C =  3\n",
      "gamma =  0.006\n",
      "Scoring SVC Classifier...\n",
      "0.881998953428\n",
      "C =  3\n",
      "gamma =  0.007\n",
      "Scoring SVC Classifier...\n",
      "0.839351125065\n",
      "C =  3\n",
      "gamma =  0.008\n",
      "Scoring SVC Classifier...\n",
      "0.792517006803\n",
      "C =  3\n",
      "gamma =  0.009\n",
      "Scoring SVC Classifier...\n",
      "0.757195185767\n",
      "C =  4\n",
      "gamma =  0.1\n",
      "Scoring SVC Classifier...\n",
      "0.101779173208\n",
      "C =  4\n",
      "gamma =  0.01\n",
      "Scoring SVC Classifier...\n",
      "0.7284144427\n",
      "C =  4\n",
      "gamma =  0.001\n",
      "Scoring SVC Classifier...\n",
      "0.976452119309\n",
      "C =  4\n",
      "gamma =  0.0001\n",
      "Scoring SVC Classifier...\n",
      "0.96991104134\n",
      "C =  4\n",
      "gamma =  0.002\n",
      "Scoring SVC Classifier...\n",
      "0.972789115646\n",
      "C =  4\n",
      "gamma =  0.003\n",
      "Scoring SVC Classifier...\n",
      "0.969649398221\n",
      "C =  4\n",
      "gamma =  0.004\n",
      "Scoring SVC Classifier...\n",
      "0.953950811094\n",
      "C =  4\n",
      "gamma =  0.005\n",
      "Scoring SVC Classifier...\n",
      "0.923600209314\n",
      "C =  4\n",
      "gamma =  0.006\n",
      "Scoring SVC Classifier...\n",
      "0.881998953428\n",
      "C =  4\n",
      "gamma =  0.007\n",
      "Scoring SVC Classifier...\n",
      "0.839351125065\n",
      "C =  4\n",
      "gamma =  0.008\n",
      "Scoring SVC Classifier...\n",
      "0.792517006803\n",
      "C =  4\n",
      "gamma =  0.009\n",
      "Scoring SVC Classifier...\n",
      "0.757195185767\n",
      "C =  5\n",
      "gamma =  0.1\n",
      "Scoring SVC Classifier...\n",
      "0.101779173208\n",
      "C =  5\n",
      "gamma =  0.01\n",
      "Scoring SVC Classifier...\n",
      "0.7284144427\n",
      "C =  5\n",
      "gamma =  0.001\n",
      "Scoring SVC Classifier...\n",
      "0.976452119309\n",
      "C =  5\n",
      "gamma =  0.0001\n",
      "Scoring SVC Classifier...\n",
      "0.972265829409\n",
      "C =  5\n",
      "gamma =  0.002\n",
      "Scoring SVC Classifier...\n",
      "0.972789115646\n",
      "C =  5\n",
      "gamma =  0.003\n",
      "Scoring SVC Classifier...\n",
      "0.969649398221\n",
      "C =  5\n",
      "gamma =  0.004\n",
      "Scoring SVC Classifier...\n",
      "0.953950811094\n",
      "C =  5\n",
      "gamma =  0.005\n",
      "Scoring SVC Classifier...\n",
      "0.923600209314\n",
      "C =  5\n",
      "gamma =  0.006\n",
      "Scoring SVC Classifier...\n",
      "0.881998953428\n",
      "C =  5\n",
      "gamma =  0.007\n",
      "Scoring SVC Classifier...\n",
      "0.839351125065\n",
      "C =  5\n",
      "gamma =  0.008\n",
      "Scoring SVC Classifier...\n",
      "0.792517006803\n",
      "C =  5\n",
      "gamma =  0.009\n",
      "Scoring SVC Classifier...\n",
      "0.757195185767\n"
     ]
    }
   ],
   "source": [
    "print(\"Training SVC Classifier...\")\n",
    "\n",
    "from sklearn.svm import SVC\n",
    "\n",
    "Cs = [0.1,0.5,1,2,3,4,5]\n",
    "Gs = [0.1,0.01,0.001,0.0001,0.002,0.003,0.004,0.005,0.006,0.007,0.008,0.009]\n",
    "\n",
    "for C in Cs:\n",
    "    for gamma in Gs:\n",
    "        print(\"C = \",C)\n",
    "        print(\"gamma = \",gamma)\n",
    "        model = SVC(kernel='rbf',gamma=gamma,C=C)\n",
    "        model.fit(X_train,y_train)\n",
    "        print(\"Scoring SVC Classifier...\")\n",
    "        print(model.score(X_test,y_test))"
   ]
  },
  {
   "cell_type": "markdown",
   "metadata": {},
   "source": [
    "Calculate the score of your SVC against the testing data:"
   ]
  },
  {
   "cell_type": "code",
   "execution_count": 62,
   "metadata": {},
   "outputs": [
    {
     "name": "stdout",
     "output_type": "stream",
     "text": [
      "Scoring SVC Classifier...\n",
      "Score:\n",
      " 0.976452119309\n"
     ]
    }
   ],
   "source": []
  },
  {
   "cell_type": "code",
   "execution_count": 12,
   "metadata": {},
   "outputs": [
    {
     "name": "stderr",
     "output_type": "stream",
     "text": [
      "/home/smeths/anaconda3/lib/python3.6/site-packages/ipykernel_launcher.py:21: DeprecationWarning: \n",
      ".ix is deprecated. Please use\n",
      ".loc for label based indexing or\n",
      ".iloc for positional indexing\n",
      "\n",
      "See the documentation here:\n",
      "http://pandas.pydata.org/pandas-docs/stable/indexing.html#ix-indexer-is-deprecated\n",
      "/home/smeths/anaconda3/lib/python3.6/site-packages/ipykernel_launcher.py:21: FutureWarning: reshape is deprecated and will raise in a subsequent release. Please use .values.reshape(...) instead\n"
     ]
    },
    {
     "data": {
      "text/plain": [
       "<matplotlib.figure.Figure at 0x7f885315fd68>"
      ]
     },
     "metadata": {},
     "output_type": "display_data"
    },
    {
     "name": "stderr",
     "output_type": "stream",
     "text": [
      "/home/smeths/anaconda3/lib/python3.6/site-packages/matplotlib/figure.py:1999: UserWarning: This figure includes Axes that are not compatible with tight_layout, so results might be incorrect.\n",
      "  warnings.warn(\"This figure includes Axes that are not compatible \"\n"
     ]
    },
    {
     "data": {
      "image/png": "[encoded data removed]",
      "text/plain": [
       "<matplotlib.figure.Figure at 0x7f88530d1668>"
      ]
     },
     "metadata": {},
     "output_type": "display_data"
    }
   ],
   "source": [
    "# Let's get some visual confirmation of accuracy:\n",
    "drawPredictions(X_train, X_test, y_train, y_test)"
   ]
  },
  {
   "cell_type": "markdown",
   "metadata": {},
   "source": [
    "Print out the TRUE value of the 1000th digit in the test set. By TRUE value, we mean, the actual provided, ground-truth label for that sample:"
   ]
  },
  {
   "cell_type": "code",
   "execution_count": 16,
   "metadata": {},
   "outputs": [
    {
     "name": "stdout",
     "output_type": "stream",
     "text": [
      "1000th test label:  4\n"
     ]
    }
   ],
   "source": [
    "true_1000th_test_value = y_test[999]\n",
    "\n",
    "print(\"1000th test label: \", true_1000th_test_value)"
   ]
  },
  {
   "cell_type": "markdown",
   "metadata": {},
   "source": [
    "Predict the value of the 1000th digit in the test set. Was your model's prediction correct? If you get a warning on your predict line, look at the notes from the previous module's labs."
   ]
  },
  {
   "cell_type": "code",
   "execution_count": 31,
   "metadata": {},
   "outputs": [
    {
     "name": "stdout",
     "output_type": "stream",
     "text": [
      "1000th test prediction:  [4]\n"
     ]
    }
   ],
   "source": [
    "guess_1000th_test_value = model.predict(X_test.iloc[[999]])\n",
    "\n",
    "print(\"1000th test prediction: \", guess_1000th_test_value)\n"
   ]
  },
  {
   "cell_type": "markdown",
   "metadata": {},
   "source": [
    "Use `imshow()` to display the 1000th test image, so you can visually check if it was a hard image, or an easy image:"
   ]
  },
  {
   "cell_type": "code",
   "execution_count": 32,
   "metadata": {},
   "outputs": [
    {
     "data": {
      "image/png": "[encoded data removed]",
      "text/plain": [
       "<matplotlib.figure.Figure at 0x7f8852dbdcc0>"
      ]
     },
     "metadata": {},
     "output_type": "display_data"
    }
   ],
   "source": [
    "plt.imshow(X_test.iloc[[999]].values.reshape(8,8), cmap=plt.cm.gray_r, interpolation='nearest')\n",
    "plt.show()"
   ]
  },
  {
   "cell_type": "markdown",
   "metadata": {},
   "source": [
    "### To the Goal"
   ]
  },
  {
   "cell_type": "markdown",
   "metadata": {},
   "source": [
    "- Were you able to beat the USPS advertised accuracy score of 98%? If so, STOP and answer the lab questions. But if you weren't able to get that high of an accuracy score, go back and change your SVC's kernel to 'poly' and re-run your lab again.\n",
    "\n",
    "\n",
    "- Were you able to beat the USPS advertised accuracy score of 98%? If so, STOP and answer the lab questions. But if you weren't able to get that high of an accuracy score, go back and change your SVC's kernel to 'rbf' and re-run your lab again.\n",
    "\n",
    "\n",
    "- Were you able to beat the USPS advertised accuracy score of 98%? If so, STOP and answer the lab questions. But if you weren't able to get that high of an accuracy score, go back and tinker with your gamma value and C value until you're able to beat the USPS. Don't stop tinkering until you do. =)."
   ]
  },
  {
   "cell_type": "markdown",
   "metadata": {},
   "source": [
    "### More Tasks"
   ]
  },
  {
   "cell_type": "markdown",
   "metadata": {},
   "source": [
    "Only after you're able to beat the +98% accuracy score of the USPS, go back into the `load()` method and look for the line that reads `# Special:`\n",
    "\n",
    "Immediately under that line, ONLY alter `X_train` and `y_train`. Keep just the ___FIRST___ 4% of the samples. In other words, for every 100 samples found, throw away 96 of them. To make this easy, keep the samples and labels from th beginning of your `X_train` and `y_train` vectors.\n",
    "\n",
    "If the first 4% of your train vector's size yields is a decimal number, then use `ceil` to round up to the nearest whole integer.\n",
    "\n",
    "This operation might require some Pandas indexing skills, or rather some _numpy_ indexing skills, if you'd like to go that route. Feel free to ask on the class forum if you'd like a tip on how to do this; but try to exercise your own muscles first! \n",
    "\n",
    "Re-Run your application after throwing away 96% your training data. What accuracy score do you get now?"
   ]
  },
  {
   "cell_type": "markdown",
   "metadata": {},
   "source": [
    "### Even More Tasks..."
   ]
  },
  {
   "cell_type": "markdown",
   "metadata": {},
   "source": [
    "Change your kernel back to linear and run your assignment one last time. What's the accuracy score this time?\n",
    "\n",
    "Surprised?"
   ]
  },
  {
   "cell_type": "code",
   "execution_count": null,
   "metadata": {
    "collapsed": true
   },
   "outputs": [],
   "source": []
  }
 ],
 "metadata": {
  "anaconda-cloud": {},
  "kernelspec": {
   "display_name": "Python 3",
   "language": "python",
   "name": "python3"
  },
  "language_info": {
   "codemirror_mode": {
    "name": "ipython",
    "version": 3
   },
   "file_extension": ".py",
   "mimetype": "text/x-python",
   "name": "python",
   "nbconvert_exporter": "python",
   "pygments_lexer": "ipython3",
   "version": "3.6.3"
  },
  "toc": {
   "colors": {
    "hover_highlight": "#DAA520",
    "running_highlight": "#FF0000",
    "selected_highlight": "#FFD700"
   },
   "moveMenuLeft": true,
   "nav_menu": {
    "height": "58px",
    "width": "252px"
   },
   "navigate_menu": true,
   "number_sections": true,
   "sideBar": true,
   "threshold": 4,
   "toc_cell": false,
   "toc_section_display": "block",
   "toc_window_display": false,
   "widenNotebook": false
  }
 },
 "nbformat": 4,
 "nbformat_minor": 2
}
